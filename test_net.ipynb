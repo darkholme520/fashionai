{
 "cells": [
  {
   "cell_type": "code",
   "execution_count": 3,
   "metadata": {},
   "outputs": [
    {
     "name": "stdout",
     "output_type": "stream",
     "text": [
      "/home/gege/dong/fashionai\n"
     ]
    }
   ],
   "source": [
    "fashionaipath = '/home/gege/dong/fashionai/'\n",
    "caffepath = '/home/gege/dong/caffe/'\n",
    "import os\n",
    "print (os.getcwd())"
   ]
  },
  {
   "cell_type": "code",
   "execution_count": 5,
   "metadata": {},
   "outputs": [],
   "source": [
    "import caffe\n",
    "from caffe import layers as L, params as P\n",
    "\n",
    "def lenet(lmdb, batch_size):\n",
    "    # our version of LeNet: a series of linear and simple nonlinear transformations\n",
    "    n = caffe.NetSpec()\n",
    "    \n",
    "    n.data, n.label = L.Data(batch_size=batch_size, backend=P.Data.LMDB, source=lmdb,\n",
    "                             transform_param=dict(scale=1./255), ntop=2)\n",
    "    \n",
    "    n.conv1 = L.Convolution(n.data, kernel_size=5, num_output=20, weight_filler=dict(type='xavier'))\n",
    "    n.pool1 = L.Pooling(n.conv1, kernel_size=2, stride=2, pool=P.Pooling.MAX)\n",
    "    n.conv2 = L.Convolution(n.pool1, kernel_size=5, num_output=50, weight_filler=dict(type='xavier'))\n",
    "    n.pool2 = L.Pooling(n.conv2, kernel_size=2, stride=2, pool=P.Pooling.MAX)\n",
    "    n.fc1 =   L.InnerProduct(n.pool2, num_output=500, weight_filler=dict(type='xavier'))\n",
    "    n.relu1 = L.ReLU(n.fc1, in_place=True)\n",
    "    n.score = L.InnerProduct(n.relu1, num_output=10, weight_filler=dict(type='xavier'))\n",
    "    n.loss =  L.SoftmaxWithLoss(n.score, n.label)\n",
    "    \n",
    "    return n.to_proto()\n",
    "    \n",
    "dt_file = caffepath+'mnist/mnist_train_lmdb'\n",
    "with open('testlenet.prototxt', 'w') as f:\n",
    "    net = lenet(dt_file, 64)\n",
    "    f.write(str(net))"
   ]
  },
  {
   "cell_type": "code",
   "execution_count": 19,
   "metadata": {},
   "outputs": [
    {
     "name": "stdout",
     "output_type": "stream",
     "text": [
      "<caffe.net_spec.NetSpec object at 0x7f221361b400>\n"
     ]
    }
   ],
   "source": [
    "def lenet(lmdb, batch_size):\n",
    "    # our version of LeNet: a series of linear and simple nonlinear transformations\n",
    "    n = caffe.NetSpec()\n",
    "    \n",
    "    n.data, n.label = L.Data(batch_size=batch_size, backend=P.Data.LMDB, source=lmdb,\n",
    "                             transform_param=dict(scale=1./255), ntop=2)\n",
    "    \n",
    "    n.conv1 = L.Convolution(n.data, kernel_size=5, num_output=20, weight_filler=dict(type='xavier'))\n",
    "    n.pool1 = L.Pooling(n.conv1, kernel_size=2, stride=2, pool=P.Pooling.MAX)\n",
    "    n.conv2 = L.Convolution(n.pool1, kernel_size=5, num_output=50, weight_filler=dict(type='xavier'))\n",
    "    n.pool2 = L.Pooling(n.conv2, kernel_size=2, stride=2, pool=P.Pooling.MAX)\n",
    "    n.fc1 =   L.InnerProduct(n.pool2, num_output=500, weight_filler=dict(type='xavier'))\n",
    "    n.relu1 = L.ReLU(n.fc1, in_place=True)\n",
    "    n.score = L.InnerProduct(n.relu1, num_output=10, weight_filler=dict(type='xavier'))\n",
    "    n.loss =  L.SoftmaxWithLoss(n.score, n.label)\n",
    "    \n",
    "    #return n.to_proto()\n",
    "    return n\n",
    "dt_file = caffepath+'mnist/mnist_train_lmdb'\n",
    "with open('testlenet.prototxt', 'w') as f:\n",
    "    net = lenet(dt_file, 64)\n",
    "print(net)"
   ]
  },
  {
   "cell_type": "code",
   "execution_count": 12,
   "metadata": {},
   "outputs": [
    {
     "name": "stdout",
     "output_type": "stream",
     "text": [
      "<class 'caffe_pb2.NetParameter'>\n",
      "<class 'caffe_pb2.NetParameter'>\n"
     ]
    }
   ],
   "source": [
    "from google.protobuf import text_format\n",
    "from caffe.proto import caffe_pb2\n",
    "def openfromfile(filename):\n",
    "    newnet = caffe_pb2.NetParameter()\n",
    "    text_format.Merge(open(filename).read(), newnet)\n",
    "    return newnet\n",
    "net2 = openfromfile('testlenet.prototxt')\n",
    "print(type(net2))\n",
    "print(type(net))"
   ]
  },
  {
   "cell_type": "code",
   "execution_count": 22,
   "metadata": {},
   "outputs": [
    {
     "data": {
      "text/plain": [
       "[name: \"data\"\n",
       "type: \"Data\"\n",
       "top: \"data\"\n",
       "top: \"label\"\n",
       "transform_param {\n",
       "  scale: 0.003921568859368563\n",
       "}\n",
       "data_param {\n",
       "  source: \"/home/gege/dong/caffe/mnist/mnist_train_lmdb\"\n",
       "  batch_size: 64\n",
       "  backend: LMDB\n",
       "}\n",
       ", name: \"conv1\"\n",
       "type: \"Convolution\"\n",
       "bottom: \"data\"\n",
       "top: \"conv1\"\n",
       "convolution_param {\n",
       "  num_output: 20\n",
       "  kernel_size: 5\n",
       "  weight_filler {\n",
       "    type: \"xavier\"\n",
       "  }\n",
       "}\n",
       ", name: \"pool1\"\n",
       "type: \"Pooling\"\n",
       "bottom: \"conv1\"\n",
       "top: \"pool1\"\n",
       "pooling_param {\n",
       "  pool: MAX\n",
       "  kernel_size: 2\n",
       "  stride: 2\n",
       "}\n",
       ", name: \"conv2\"\n",
       "type: \"Convolution\"\n",
       "bottom: \"pool1\"\n",
       "top: \"conv2\"\n",
       "convolution_param {\n",
       "  num_output: 50\n",
       "  kernel_size: 5\n",
       "  weight_filler {\n",
       "    type: \"xavier\"\n",
       "  }\n",
       "}\n",
       ", name: \"pool2\"\n",
       "type: \"Pooling\"\n",
       "bottom: \"conv2\"\n",
       "top: \"pool2\"\n",
       "pooling_param {\n",
       "  pool: MAX\n",
       "  kernel_size: 2\n",
       "  stride: 2\n",
       "}\n",
       ", name: \"fc1\"\n",
       "type: \"InnerProduct\"\n",
       "bottom: \"pool2\"\n",
       "top: \"fc1\"\n",
       "inner_product_param {\n",
       "  num_output: 500\n",
       "  weight_filler {\n",
       "    type: \"xavier\"\n",
       "  }\n",
       "}\n",
       ", name: \"relu1\"\n",
       "type: \"ReLU\"\n",
       "bottom: \"fc1\"\n",
       "top: \"fc1\"\n",
       ", name: \"score\"\n",
       "type: \"InnerProduct\"\n",
       "bottom: \"fc1\"\n",
       "top: \"score\"\n",
       "inner_product_param {\n",
       "  num_output: 10\n",
       "  weight_filler {\n",
       "    type: \"xavier\"\n",
       "  }\n",
       "}\n",
       ", name: \"loss\"\n",
       "type: \"SoftmaxWithLoss\"\n",
       "bottom: \"score\"\n",
       "bottom: \"label\"\n",
       "top: \"loss\"\n",
       "]"
      ]
     },
     "execution_count": 22,
     "metadata": {},
     "output_type": "execute_result"
    }
   ],
   "source": [
    "net2.layer"
   ]
  },
  {
   "cell_type": "code",
   "execution_count": 13,
   "metadata": {},
   "outputs": [
    {
     "ename": "AttributeError",
     "evalue": "'NetParameter' object has no attribute 'conv1'",
     "output_type": "error",
     "traceback": [
      "\u001b[0;31m---------------------------------------------------------------------------\u001b[0m",
      "\u001b[0;31mAttributeError\u001b[0m                            Traceback (most recent call last)",
      "\u001b[0;32m<ipython-input-13-cab2a3f51ffe>\u001b[0m in \u001b[0;36m<module>\u001b[0;34m()\u001b[0m\n\u001b[0;32m----> 1\u001b[0;31m \u001b[0mnet2\u001b[0m\u001b[0;34m.\u001b[0m\u001b[0mpool2\u001b[0m \u001b[0;34m=\u001b[0m \u001b[0mL\u001b[0m\u001b[0;34m.\u001b[0m\u001b[0mPooling\u001b[0m\u001b[0;34m(\u001b[0m\u001b[0mnet2\u001b[0m\u001b[0;34m.\u001b[0m\u001b[0mconv1\u001b[0m\u001b[0;34m,\u001b[0m \u001b[0mkernel_size\u001b[0m\u001b[0;34m=\u001b[0m\u001b[0;36m2\u001b[0m\u001b[0;34m,\u001b[0m \u001b[0mstride\u001b[0m\u001b[0;34m=\u001b[0m\u001b[0;36m2\u001b[0m\u001b[0;34m,\u001b[0m \u001b[0mpool\u001b[0m\u001b[0;34m=\u001b[0m\u001b[0mP\u001b[0m\u001b[0;34m.\u001b[0m\u001b[0mPooling\u001b[0m\u001b[0;34m.\u001b[0m\u001b[0mMAX\u001b[0m\u001b[0;34m)\u001b[0m\u001b[0;34m\u001b[0m\u001b[0m\n\u001b[0m",
      "\u001b[0;31mAttributeError\u001b[0m: 'NetParameter' object has no attribute 'conv1'"
     ]
    }
   ],
   "source": [
    "#net2.pool2 = L.Pooling(net2.conv1, kernel_size=2, stride=2, pool=P.Pooling.MAX)"
   ]
  },
  {
   "cell_type": "code",
   "execution_count": null,
   "metadata": {},
   "outputs": [],
   "source": [
    "from caffe import layers as L, params as P\n",
    "help(L)"
   ]
  },
  {
   "cell_type": "code",
   "execution_count": null,
   "metadata": {},
   "outputs": [],
   "source": [
    "!pwd"
   ]
  },
  {
   "cell_type": "code",
   "execution_count": null,
   "metadata": {},
   "outputs": [],
   "source": [
    "!cd ..\n",
    "!pwd"
   ]
  },
  {
   "cell_type": "code",
   "execution_count": null,
   "metadata": {
    "collapsed": true
   },
   "outputs": [],
   "source": []
  }
 ],
 "metadata": {
  "kernelspec": {
   "display_name": "Python 3",
   "language": "python",
   "name": "python3"
  },
  "language_info": {
   "codemirror_mode": {
    "name": "ipython",
    "version": 3
   },
   "file_extension": ".py",
   "mimetype": "text/x-python",
   "name": "python",
   "nbconvert_exporter": "python",
   "pygments_lexer": "ipython3",
   "version": "3.6.5"
  }
 },
 "nbformat": 4,
 "nbformat_minor": 2
}
