{
 "cells": [
  {
   "cell_type": "code",
   "execution_count": 1,
   "metadata": {},
   "outputs": [
    {
     "name": "stdout",
     "output_type": "stream",
     "text": [
      "31631 pictures has been found\n"
     ]
    }
   ],
   "source": [
    "import os\n",
    "traindatadir = 'train'\n",
    "clothes_categories = os.listdir(traindatadir + '/Images')\n",
    "allpicpaths = []\n",
    "for cat_name in clothes_categories:\n",
    "    allpicpaths += [traindatadir + '/Images/' + cat_name + '/' + fname \n",
    "                    for fname in os.listdir(traindatadir + '/Images/' + cat_name)]\n",
    "print (str(len(allpicpaths)) + ' pictures has been found');"
   ]
  },
  {
   "cell_type": "code",
   "execution_count": 2,
   "metadata": {},
   "outputs": [
    {
     "name": "stdout",
     "output_type": "stream",
     "text": [
      "31631 pictures has been loaded\n"
     ]
    }
   ],
   "source": [
    "from PIL import Image\n",
    "size0 = []\n",
    "size1 = []\n",
    "for i in range(len(allpicpaths)):\n",
    "    apicpath = allpicpaths[i]\n",
    "    im_PIL = Image.open(apicpath)\n",
    "    size0.append(im_PIL.size[0])\n",
    "    size1.append(im_PIL.size[1])\n",
    "print (str(len(size0)) + ' pictures has been loaded');"
   ]
  },
  {
   "cell_type": "code",
   "execution_count": 3,
   "metadata": {
    "collapsed": true
   },
   "outputs": [],
   "source": [
    "from matplotlib import pyplot as plt"
   ]
  },
  {
   "cell_type": "code",
   "execution_count": 4,
   "metadata": {},
   "outputs": [
    {
     "data": {
      "image/png": "[encoded data removed]",
      "text/plain": [
       "<matplotlib.figure.Figure at 0x7f211cee8710>"
      ]
     },
     "metadata": {},
     "output_type": "display_data"
    }
   ],
   "source": [
    "plt.hist(size1)\n",
    "plt.show()"
   ]
  },
  {
   "cell_type": "code",
   "execution_count": 5,
   "metadata": {},
   "outputs": [
    {
     "data": {
      "image/png": "[encoded data removed]",
      "text/plain": [
       "<matplotlib.figure.Figure at 0x7f211abceb38>"
      ]
     },
     "metadata": {},
     "output_type": "display_data"
    }
   ],
   "source": [
    "plt.hist(size0)\n",
    "plt.show()"
   ]
  },
  {
   "cell_type": "code",
   "execution_count": null,
   "metadata": {
    "collapsed": true
   },
   "outputs": [],
   "source": []
  }
 ],
 "metadata": {
  "kernelspec": {
   "display_name": "Python 3",
   "language": "python",
   "name": "python3"
  },
  "language_info": {
   "codemirror_mode": {
    "name": "ipython",
    "version": 3
   },
   "file_extension": ".py",
   "mimetype": "text/x-python",
   "name": "python",
   "nbconvert_exporter": "python",
   "pygments_lexer": "ipython3",
   "version": "3.5.2"
  }
 },
 "nbformat": 4,
 "nbformat_minor": 2
}
